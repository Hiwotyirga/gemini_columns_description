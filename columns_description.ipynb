{
 "cells": [
  {
   "cell_type": "code",
   "execution_count": null,
   "metadata": {},
   "outputs": [],
   "source": [
    "import os\n",
    "from transformers import pipeline\n",
    "import pandas as pd\n",
    "import GEOparse\n",
    "from transformers import AutoTokenizer\n",
    "import llama \n",
    "from importlib import reload\n",
    "from llama.utils import wrap_gemini_dialog  \n",
    "from llama.column_description import system_message, dataset_columns_description_prompt, dataset_input\n",
    "\n",
    "\n",
    "\n"
   ]
  },
  {
   "cell_type": "code",
   "execution_count": 12,
   "metadata": {},
   "outputs": [
    {
     "name": "stderr",
     "output_type": "stream",
     "text": [
      "15-Mar-2025 10:08:36 DEBUG utils - Directory ./data already exists. Skipping.\n",
      "15-Mar-2025 10:08:36 INFO GEOparse - File already exist: using local version.\n",
      "15-Mar-2025 10:08:36 INFO GEOparse - Parsing ./data\\GSE1563_family.soft.gz: \n",
      "15-Mar-2025 10:08:36 DEBUG GEOparse - DATABASE: GeoMiame\n",
      "15-Mar-2025 10:08:36 DEBUG GEOparse - SERIES: GSE1563\n",
      "15-Mar-2025 10:08:36 DEBUG GEOparse - PLATFORM: GPL8300\n",
      "15-Mar-2025 10:08:40 DEBUG GEOparse - SAMPLE: GSM26805\n",
      "15-Mar-2025 10:08:40 DEBUG GEOparse - SAMPLE: GSM26806\n",
      "15-Mar-2025 10:08:40 DEBUG GEOparse - SAMPLE: GSM26807\n",
      "15-Mar-2025 10:08:40 DEBUG GEOparse - SAMPLE: GSM26808\n",
      "15-Mar-2025 10:08:40 DEBUG GEOparse - SAMPLE: GSM26809\n",
      "15-Mar-2025 10:08:41 DEBUG GEOparse - SAMPLE: GSM26810\n",
      "15-Mar-2025 10:08:41 DEBUG GEOparse - SAMPLE: GSM26811\n",
      "15-Mar-2025 10:08:41 DEBUG GEOparse - SAMPLE: GSM26812\n",
      "15-Mar-2025 10:08:41 DEBUG GEOparse - SAMPLE: GSM26813\n",
      "15-Mar-2025 10:08:41 DEBUG GEOparse - SAMPLE: GSM26814\n",
      "15-Mar-2025 10:08:41 DEBUG GEOparse - SAMPLE: GSM26815\n",
      "15-Mar-2025 10:08:41 DEBUG GEOparse - SAMPLE: GSM26816\n",
      "15-Mar-2025 10:08:41 DEBUG GEOparse - SAMPLE: GSM26817\n",
      "15-Mar-2025 10:08:41 DEBUG GEOparse - SAMPLE: GSM26818\n",
      "15-Mar-2025 10:08:42 DEBUG GEOparse - SAMPLE: GSM26819\n",
      "15-Mar-2025 10:08:42 DEBUG GEOparse - SAMPLE: GSM26820\n",
      "15-Mar-2025 10:08:42 DEBUG GEOparse - SAMPLE: GSM26821\n",
      "15-Mar-2025 10:08:42 DEBUG GEOparse - SAMPLE: GSM26822\n",
      "15-Mar-2025 10:08:42 DEBUG GEOparse - SAMPLE: GSM26823\n",
      "15-Mar-2025 10:08:42 DEBUG GEOparse - SAMPLE: GSM26824\n",
      "15-Mar-2025 10:08:42 DEBUG GEOparse - SAMPLE: GSM26825\n",
      "15-Mar-2025 10:08:42 DEBUG GEOparse - SAMPLE: GSM26826\n",
      "15-Mar-2025 10:08:42 DEBUG GEOparse - SAMPLE: GSM26827\n",
      "15-Mar-2025 10:08:43 DEBUG GEOparse - SAMPLE: GSM26828\n",
      "15-Mar-2025 10:08:43 DEBUG GEOparse - SAMPLE: GSM26829\n",
      "15-Mar-2025 10:08:43 DEBUG GEOparse - SAMPLE: GSM26830\n",
      "15-Mar-2025 10:08:43 DEBUG GEOparse - SAMPLE: GSM26831\n",
      "15-Mar-2025 10:08:43 DEBUG GEOparse - SAMPLE: GSM26832\n",
      "15-Mar-2025 10:08:43 DEBUG GEOparse - SAMPLE: GSM26833\n",
      "15-Mar-2025 10:08:43 DEBUG GEOparse - SAMPLE: GSM26834\n",
      "15-Mar-2025 10:08:43 DEBUG GEOparse - SAMPLE: GSM26835\n",
      "15-Mar-2025 10:08:43 DEBUG GEOparse - SAMPLE: GSM26836\n",
      "15-Mar-2025 10:08:44 DEBUG GEOparse - SAMPLE: GSM26837\n",
      "15-Mar-2025 10:08:44 DEBUG GEOparse - SAMPLE: GSM26838\n",
      "15-Mar-2025 10:08:44 DEBUG GEOparse - SAMPLE: GSM26839\n",
      "15-Mar-2025 10:08:45 DEBUG GEOparse - SAMPLE: GSM26840\n",
      "15-Mar-2025 10:08:45 DEBUG GEOparse - SAMPLE: GSM26841\n",
      "15-Mar-2025 10:08:45 DEBUG GEOparse - SAMPLE: GSM26842\n",
      "15-Mar-2025 10:08:46 DEBUG GEOparse - SAMPLE: GSM26843\n",
      "15-Mar-2025 10:08:46 DEBUG GEOparse - SAMPLE: GSM26844\n",
      "15-Mar-2025 10:08:46 DEBUG GEOparse - SAMPLE: GSM26845\n",
      "15-Mar-2025 10:08:46 DEBUG GEOparse - SAMPLE: GSM26846\n",
      "15-Mar-2025 10:08:46 DEBUG GEOparse - SAMPLE: GSM26847\n",
      "15-Mar-2025 10:08:46 DEBUG GEOparse - SAMPLE: GSM26848\n",
      "15-Mar-2025 10:08:46 DEBUG GEOparse - SAMPLE: GSM26849\n",
      "15-Mar-2025 10:08:46 DEBUG GEOparse - SAMPLE: GSM26850\n",
      "15-Mar-2025 10:08:46 DEBUG GEOparse - SAMPLE: GSM26851\n",
      "15-Mar-2025 10:08:47 DEBUG GEOparse - SAMPLE: GSM26852\n",
      "15-Mar-2025 10:08:47 DEBUG GEOparse - SAMPLE: GSM26853\n",
      "15-Mar-2025 10:08:47 DEBUG GEOparse - SAMPLE: GSM26854\n",
      "15-Mar-2025 10:08:47 DEBUG GEOparse - SAMPLE: GSM26855\n",
      "15-Mar-2025 10:08:48 DEBUG GEOparse - SAMPLE: GSM26856\n",
      "15-Mar-2025 10:08:48 DEBUG GEOparse - SAMPLE: GSM26857\n",
      "15-Mar-2025 10:08:48 DEBUG GEOparse - SAMPLE: GSM26858\n",
      "15-Mar-2025 10:08:48 DEBUG GEOparse - SAMPLE: GSM26859\n",
      "15-Mar-2025 10:08:48 DEBUG GEOparse - SAMPLE: GSM26860\n",
      "15-Mar-2025 10:08:48 DEBUG GEOparse - SAMPLE: GSM26861\n",
      "15-Mar-2025 10:08:48 DEBUG GEOparse - SAMPLE: GSM26862\n",
      "15-Mar-2025 10:08:49 DEBUG GEOparse - SAMPLE: GSM26863\n",
      "15-Mar-2025 10:08:49 DEBUG GEOparse - SAMPLE: GSM26864\n",
      "15-Mar-2025 10:08:49 DEBUG GEOparse - SAMPLE: GSM26865\n",
      "15-Mar-2025 10:08:49 DEBUG GEOparse - SAMPLE: GSM26866\n"
     ]
    }
   ],
   "source": [
    "gse = GEOparse.get_GEO(geo=\"GSE1563\", destdir=\"./data\")"
   ]
  },
  {
   "cell_type": "code",
   "execution_count": 13,
   "metadata": {},
   "outputs": [
    {
     "data": {
      "text/html": [
       "<div>\n",
       "<style scoped>\n",
       "    .dataframe tbody tr th:only-of-type {\n",
       "        vertical-align: middle;\n",
       "    }\n",
       "\n",
       "    .dataframe tbody tr th {\n",
       "        vertical-align: top;\n",
       "    }\n",
       "\n",
       "    .dataframe thead th {\n",
       "        text-align: right;\n",
       "    }\n",
       "</style>\n",
       "<table border=\"1\" class=\"dataframe\">\n",
       "  <thead>\n",
       "    <tr style=\"text-align: right;\">\n",
       "      <th></th>\n",
       "      <th>ID_REF</th>\n",
       "      <th>VALUE</th>\n",
       "      <th>ABS_CALL</th>\n",
       "      <th>DETECTION P-VALUE</th>\n",
       "    </tr>\n",
       "  </thead>\n",
       "  <tbody>\n",
       "    <tr>\n",
       "      <th>0</th>\n",
       "      <td>AFFX-MurIL2_at</td>\n",
       "      <td>211.5</td>\n",
       "      <td>A</td>\n",
       "      <td>0.50000</td>\n",
       "    </tr>\n",
       "    <tr>\n",
       "      <th>1</th>\n",
       "      <td>AFFX-MurIL10_at</td>\n",
       "      <td>190.2</td>\n",
       "      <td>A</td>\n",
       "      <td>0.23906</td>\n",
       "    </tr>\n",
       "    <tr>\n",
       "      <th>2</th>\n",
       "      <td>AFFX-MurIL4_at</td>\n",
       "      <td>96.5</td>\n",
       "      <td>A</td>\n",
       "      <td>0.68628</td>\n",
       "    </tr>\n",
       "    <tr>\n",
       "      <th>3</th>\n",
       "      <td>AFFX-MurFAS_at</td>\n",
       "      <td>80.8</td>\n",
       "      <td>A</td>\n",
       "      <td>0.55935</td>\n",
       "    </tr>\n",
       "    <tr>\n",
       "      <th>4</th>\n",
       "      <td>AFFX-BioB-5_at</td>\n",
       "      <td>847.3</td>\n",
       "      <td>P</td>\n",
       "      <td>0.00202</td>\n",
       "    </tr>\n",
       "    <tr>\n",
       "      <th>...</th>\n",
       "      <td>...</td>\n",
       "      <td>...</td>\n",
       "      <td>...</td>\n",
       "      <td>...</td>\n",
       "    </tr>\n",
       "    <tr>\n",
       "      <th>12620</th>\n",
       "      <td>160025_at</td>\n",
       "      <td>248.5</td>\n",
       "      <td>M</td>\n",
       "      <td>0.04397</td>\n",
       "    </tr>\n",
       "    <tr>\n",
       "      <th>12621</th>\n",
       "      <td>160027_s_at</td>\n",
       "      <td>502.8</td>\n",
       "      <td>P</td>\n",
       "      <td>0.00262</td>\n",
       "    </tr>\n",
       "    <tr>\n",
       "      <th>12622</th>\n",
       "      <td>160026_at</td>\n",
       "      <td>171.4</td>\n",
       "      <td>A</td>\n",
       "      <td>0.64131</td>\n",
       "    </tr>\n",
       "    <tr>\n",
       "      <th>12623</th>\n",
       "      <td>160043_at</td>\n",
       "      <td>183.7</td>\n",
       "      <td>P</td>\n",
       "      <td>0.00486</td>\n",
       "    </tr>\n",
       "    <tr>\n",
       "      <th>12624</th>\n",
       "      <td>160042_s_at</td>\n",
       "      <td>578.4</td>\n",
       "      <td>P</td>\n",
       "      <td>0.01494</td>\n",
       "    </tr>\n",
       "  </tbody>\n",
       "</table>\n",
       "<p>12625 rows × 4 columns</p>\n",
       "</div>"
      ],
      "text/plain": [
       "                ID_REF  VALUE ABS_CALL  DETECTION P-VALUE\n",
       "0       AFFX-MurIL2_at  211.5        A            0.50000\n",
       "1      AFFX-MurIL10_at  190.2        A            0.23906\n",
       "2       AFFX-MurIL4_at   96.5        A            0.68628\n",
       "3       AFFX-MurFAS_at   80.8        A            0.55935\n",
       "4       AFFX-BioB-5_at  847.3        P            0.00202\n",
       "...                ...    ...      ...                ...\n",
       "12620        160025_at  248.5        M            0.04397\n",
       "12621      160027_s_at  502.8        P            0.00262\n",
       "12622        160026_at  171.4        A            0.64131\n",
       "12623        160043_at  183.7        P            0.00486\n",
       "12624      160042_s_at  578.4        P            0.01494\n",
       "\n",
       "[12625 rows x 4 columns]"
      ]
     },
     "execution_count": 13,
     "metadata": {},
     "output_type": "execute_result"
    }
   ],
   "source": [
    "gsm_name, gsm = next(iter(gse.gsms.items()))\n",
    "\n",
    "gsm.table"
   ]
  },
  {
   "cell_type": "code",
   "execution_count": 14,
   "metadata": {},
   "outputs": [],
   "source": [
    "data_filename = 'GSM'\n",
    "header = 4\n",
    "\n",
    "gsm_dir = gsm.filename if hasattr(gsm, 'filename') else './data' \n",
    "\n",
    "data_fp = os.path.join(gsm_dir, data_filename)\n",
    "description_fp = os.path.join(gsm_dir, 'description.txt')\n",
    "\n",
    "\n",
    "if os.path.isfile(description_fp):\n",
    "    with open(description_fp, 'r') as f:\n",
    "        description = f.read()\n",
    "else:\n",
    "    description = ''"
   ]
  },
  {
   "cell_type": "code",
   "execution_count": 15,
   "metadata": {},
   "outputs": [],
   "source": [
    "column_names = gsm.table.columns.tolist()\n",
    "data_sample = gsm.table.sample(50)\n",
    "data_str = data_sample.to_string()"
   ]
  },
  {
   "cell_type": "code",
   "execution_count": 16,
   "metadata": {},
   "outputs": [
    {
     "data": {
      "text/plain": [
       "<module 'llama' (namespace) from ['c:\\\\Users\\\\hiwot\\\\Desktop\\\\icog\\\\New folder\\\\llama']>"
      ]
     },
     "execution_count": 16,
     "metadata": {},
     "output_type": "execute_result"
    }
   ],
   "source": [
    "reload(llama)"
   ]
  },
  {
   "cell_type": "code",
   "execution_count": 53,
   "metadata": {},
   "outputs": [],
   "source": [
    "\n",
    "messages = [\n",
    "    {'role': 'system', 'content': system_message},\n",
    "    {'role': 'user', 'content': dataset_columns_description_prompt + dataset_input.format(dataset_description=description, dataset=data_str)}\n",
    "]\n",
    "\n",
    "input_prompt = wrap_gemini_dialog(messages)"
   ]
  },
  {
   "cell_type": "code",
   "execution_count": 55,
   "metadata": {},
   "outputs": [
    {
     "name": "stdout",
     "output_type": "stream",
     "text": [
      "```json\n",
      "{\n",
      "  \"ID_REF\": {\n",
      "    \"description\": \"Unique identifier for each gene expression probe.\",\n",
      "    \"data_type\": \"string\"\n",
      "  },\n",
      "  \"VALUE\": {\n",
      "    \"description\": \"Numerical value representing the measured expression level of the gene.\",\n",
      "    \"data_type\": \"float\"\n",
      "  },\n",
      "  \"ABS_CALL\": {\n",
      "    \"description\": \"Represents the absolute call for the presence or absence of the gene, where 'A' likely stands for absent or no change, 'P' stands for present or increase, and 'M' stands for marginal change.\",\n",
      "    \"data_type\": \"string\"\n",
      "  },\n",
      "  \"DETECTION P-VALUE\": {\n",
      "    \"description\": \"Statistical measure of significance for the detection of the gene expression difference. Lower p-values suggest stronger evidence of differential expression.\",\n",
      "    \"data_type\": \"float\"\n",
      "  }\n",
      "}\n",
      "```\n"
     ]
    }
   ],
   "source": [
    "print(input_prompt)"
   ]
  },
  {
   "cell_type": "code",
   "execution_count": null,
   "metadata": {},
   "outputs": [],
   "source": []
  }
 ],
 "metadata": {
  "kernelspec": {
   "display_name": "venv",
   "language": "python",
   "name": "python3"
  },
  "language_info": {
   "codemirror_mode": {
    "name": "ipython",
    "version": 3
   },
   "file_extension": ".py",
   "mimetype": "text/x-python",
   "name": "python",
   "nbconvert_exporter": "python",
   "pygments_lexer": "ipython3",
   "version": "3.12.5"
  }
 },
 "nbformat": 4,
 "nbformat_minor": 2
}
